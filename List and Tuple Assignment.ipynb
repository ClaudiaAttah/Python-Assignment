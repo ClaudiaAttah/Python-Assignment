{
 "cells": [
  {
   "cell_type": "markdown",
   "id": "37eb0375",
   "metadata": {},
   "source": [
    "# List and Tuple Assignment\n"
   ]
  },
  {
   "cell_type": "code",
   "execution_count": 2,
   "id": "12e3a80f",
   "metadata": {},
   "outputs": [
    {
     "name": "stdout",
     "output_type": "stream",
     "text": [
      "Maximum value: 23\n"
     ]
    }
   ],
   "source": [
    "#Question 1\n",
    "\n",
    "data = [2, 4, 7, 4, 23, 5, 1, 4, 8, 9]\n",
    "\n",
    "max_value = max(data)\n",
    "\n",
    "print(\"Maximum value:\", max_value)\n"
   ]
  },
  {
   "cell_type": "code",
   "execution_count": 4,
   "id": "27da5675",
   "metadata": {},
   "outputs": [
    {
     "name": "stdout",
     "output_type": "stream",
     "text": [
      "Average value: 24.6\n"
     ]
    }
   ],
   "source": [
    "#Question 2\n",
    "\n",
    "data = [4, 7, 1, 5, 11, 53, 12, 46, 84, 23]\n",
    "\n",
    "total_sum = sum(data)\n",
    "\n",
    "average = total_sum / len(data)\n",
    "\n",
    "# Print the average value\n",
    "print(\"Average value:\", average)\n"
   ]
  },
  {
   "cell_type": "code",
   "execution_count": 10,
   "id": "3861c6e8",
   "metadata": {},
   "outputs": [
    {
     "name": "stdout",
     "output_type": "stream",
     "text": [
      "5\n",
      "89\n",
      "45\n",
      "14\n",
      "53\n",
      "23\n",
      "45\n",
      "7\n",
      "6\n",
      "2\n"
     ]
    }
   ],
   "source": [
    "#Question 3\n",
    "\n",
    "data = [2, 6, 7, 45, 23, 53, 14, 45, 89, 5]\n",
    "\n",
    "for number in reversed(data):\n",
    "  print(number)"
   ]
  },
  {
   "cell_type": "code",
   "execution_count": 12,
   "id": "f8c52b3b",
   "metadata": {},
   "outputs": [
    {
     "name": "stdout",
     "output_type": "stream",
     "text": [
      "True\n"
     ]
    }
   ],
   "source": [
    "#Question 4\n",
    "\n",
    "def compare_lists(list1, list2):\n",
    "\n",
    "  # Check if the lists have the same length\n",
    "  if len(list1) != len(list2):\n",
    "    return False  # Lists must have the same length\n",
    "\n",
    "  # Compare each element at the same index\n",
    "  for i in range(len(list1)):\n",
    "    if list1[i] >= list2[i]:\n",
    "      return False  # An element in list1 is not less than its corresponding element in list2\n",
    "\n",
    "  # All elements in list1 are less than their corresponding elements in list2\n",
    "  return True\n",
    "\n",
    "list1 = [1, 3, 5, 7]\n",
    "list2 = [2, 4, 6, 8]\n",
    "\n",
    "result = compare_lists(list1, list2)\n",
    "\n",
    "print(result)  # Output: True\n",
    "\n"
   ]
  },
  {
   "cell_type": "code",
   "execution_count": 15,
   "id": "898a10ae",
   "metadata": {},
   "outputs": [
    {
     "name": "stdout",
     "output_type": "stream",
     "text": [
      "[1, 7, 2, 4, 5]\n"
     ]
    }
   ],
   "source": [
    "#Question 5\n",
    "\n",
    "def swap_elements(data, index1, index2):\n",
    "\n",
    "  # Ensure indexes are within bounds\n",
    "  if not (0 <= index1 < len(data) and 0 <= index2 < len(data)):\n",
    "    raise IndexError(\"Indexes out of range\")\n",
    "\n",
    "  # Swap elements using temporary variable\n",
    "  temp = data[index1]\n",
    "  data[index1] = data[index2]\n",
    "  data[index2] = temp\n",
    "\n",
    "  return data\n",
    "\n",
    "numbers = [1, 4, 2, 7, 5]\n",
    "index1 = 1\n",
    "index2 = 3\n",
    "\n",
    "swapped_numbers = swap_elements(numbers, index1, index2)\n",
    "\n",
    "print(swapped_numbers)\n",
    "\n"
   ]
  },
  {
   "cell_type": "code",
   "execution_count": 17,
   "id": "f533b66c",
   "metadata": {},
   "outputs": [
    {
     "name": "stdout",
     "output_type": "stream",
     "text": [
      "[7, 8, 9, 3, 4, 5]\n"
     ]
    }
   ],
   "source": [
    "#Question 6\n",
    "\n",
    "def combine_lists(list1, list2):\n",
    "\n",
    "  combined_list = list1.copy()  \n",
    "  combined_list.extend(list2)  \n",
    "  return combined_list\n",
    "\n",
    "\n",
    "list1 = [7, 8, 9]\n",
    "list2 = [3, 4, 5]\n",
    "\n",
    "combined_list = combine_lists(list1, list2)\n",
    "\n",
    "print(combined_list) \n"
   ]
  },
  {
   "cell_type": "code",
   "execution_count": 19,
   "id": "be148846",
   "metadata": {},
   "outputs": [
    {
     "name": "stdout",
     "output_type": "stream",
     "text": [
      "5\n"
     ]
    }
   ],
   "source": [
    "#Question 7\n",
    "def find_last_index(data, value):\n",
    "\n",
    "  # Loop through the list in reverse order\n",
    "  for i in range(len(data) - 1, -1, -1):\n",
    "    if data[i] == value:\n",
    "      return i  # Found the value, return its index\n",
    "\n",
    "  # Value not found in the list\n",
    "  return -1\n",
    "\n",
    "data = [74, 85, 102, 99, 101, 85, 56]\n",
    "value = 85\n",
    "\n",
    "last_index = find_last_index(data, value)\n",
    "\n",
    "print(last_index)\n"
   ]
  },
  {
   "cell_type": "code",
   "execution_count": 20,
   "id": "23ab4824",
   "metadata": {},
   "outputs": [
    {
     "name": "stdout",
     "output_type": "stream",
     "text": [
      "Range of values: 35\n"
     ]
    }
   ],
   "source": [
    "#Question 8\n",
    "\n",
    "def find_range(data):\n",
    "\n",
    "  minimum = data[0]\n",
    "  maximum = data[0]\n",
    "\n",
    "  for number in data:\n",
    "    minimum = min(minimum, number)\n",
    "    maximum = max(maximum, number)\n",
    "\n",
    "  # Calculate the range (1 more than the difference between max and min)\n",
    "  range_value = maximum - minimum + 1\n",
    "\n",
    "  return range_value\n",
    "\n",
    "data = [36, 12, 25, 19, 46, 31, 22]\n",
    "\n",
    "range_value = find_range(data)\n",
    "\n",
    "print(\"Range of values:\", range_value) "
   ]
  },
  {
   "cell_type": "code",
   "execution_count": 22,
   "id": "c2cd3b90",
   "metadata": {},
   "outputs": [
    {
     "name": "stdout",
     "output_type": "stream",
     "text": [
      "Number of elements in range 4-17: 4\n"
     ]
    }
   ],
   "source": [
    "#Question 9\n",
    "\n",
    "def count_in_range(data, min_value, max_value):\n",
    "  count = 0\n",
    "  for number in data:\n",
    "    if min_value <= number <= max_value:\n",
    "      count += 1\n",
    "\n",
    "  return count\n",
    "\n",
    "data = [14, 1, 22, 17, 36, 7, -43, 5]\n",
    "min_value = 4\n",
    "max_value = 17\n",
    "\n",
    "element_count = count_in_range(data, min_value, max_value)\n",
    "\n",
    "print(f\"Number of elements in range {min_value}-{max_value}: {element_count}\")\n"
   ]
  },
  {
   "cell_type": "code",
   "execution_count": 24,
   "id": "ab177a2a",
   "metadata": {},
   "outputs": [
    {
     "name": "stdout",
     "output_type": "stream",
     "text": [
      "List 1 sorted: False\n",
      "List 2 sorted: True\n"
     ]
    }
   ],
   "source": [
    "#Question 10\n",
    "\n",
    "def is_sorted(data):\n",
    "\n",
    "  if len(data) <= 1:\n",
    "    return True\n",
    "  for i in range(1, len(data)):\n",
    "    if data[i] < data[i-1]:\n",
    "      return False\n",
    "\n",
    "  return True\n",
    "\n",
    "list1 = [16.1, 12.3, 22.2, 14.4]\n",
    "list2 = [1.5, 4.3, 7.0, 19.5, 25.1, 46.2]\n",
    "\n",
    "print(f\"List 1 sorted: {is_sorted(list1)}\")  \n",
    "print(f\"List 2 sorted: {is_sorted(list2)}\") \n"
   ]
  },
  {
   "cell_type": "code",
   "execution_count": null,
   "id": "d4befdd5",
   "metadata": {},
   "outputs": [],
   "source": []
  }
 ],
 "metadata": {
  "kernelspec": {
   "display_name": "Python 3 (ipykernel)",
   "language": "python",
   "name": "python3"
  },
  "language_info": {
   "codemirror_mode": {
    "name": "ipython",
    "version": 3
   },
   "file_extension": ".py",
   "mimetype": "text/x-python",
   "name": "python",
   "nbconvert_exporter": "python",
   "pygments_lexer": "ipython3",
   "version": "3.11.5"
  }
 },
 "nbformat": 4,
 "nbformat_minor": 5
}
